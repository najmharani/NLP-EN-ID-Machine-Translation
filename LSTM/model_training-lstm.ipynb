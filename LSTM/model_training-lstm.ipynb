{
 "cells": [
  {
   "cell_type": "code",
   "execution_count": 1,
   "id": "234d7d52",
   "metadata": {},
   "outputs": [
    {
     "name": "stdout",
     "output_type": "stream",
     "text": [
      "2.10.1\n"
     ]
    }
   ],
   "source": [
    "import tensorflow as tf\n",
    "print(tf.__version__)"
   ]
  },
  {
   "cell_type": "code",
   "execution_count": 2,
   "id": "0d4d74b0-4f6e-475a-97a1-16672c76dc85",
   "metadata": {},
   "outputs": [
    {
     "name": "stderr",
     "output_type": "stream",
     "text": [
      "C:\\Users\\nazuh\\.conda\\envs\\py310\\lib\\site-packages\\tqdm\\auto.py:21: TqdmWarning: IProgress not found. Please update jupyter and ipywidgets. See https://ipywidgets.readthedocs.io/en/stable/user_install.html\n",
      "  from .autonotebook import tqdm as notebook_tqdm\n"
     ]
    },
    {
     "data": {
      "text/html": [
       "<div>\n",
       "<style scoped>\n",
       "    .dataframe tbody tr th:only-of-type {\n",
       "        vertical-align: middle;\n",
       "    }\n",
       "\n",
       "    .dataframe tbody tr th {\n",
       "        vertical-align: top;\n",
       "    }\n",
       "\n",
       "    .dataframe thead th {\n",
       "        text-align: right;\n",
       "    }\n",
       "</style>\n",
       "<table border=\"1\" class=\"dataframe\">\n",
       "  <thead>\n",
       "    <tr style=\"text-align: right;\">\n",
       "      <th></th>\n",
       "      <th>translation</th>\n",
       "    </tr>\n",
       "  </thead>\n",
       "  <tbody>\n",
       "    <tr>\n",
       "      <th>0</th>\n",
       "      <td>{'en': 'Hmm. _', 'id': 'Hmm.'}</td>\n",
       "    </tr>\n",
       "    <tr>\n",
       "      <th>1</th>\n",
       "      <td>{'en': 'Back the fuck up!', 'id': 'Mundurlah, ...</td>\n",
       "    </tr>\n",
       "    <tr>\n",
       "      <th>2</th>\n",
       "      <td>{'en': 'Rebecca have a good think about it.', ...</td>\n",
       "    </tr>\n",
       "    <tr>\n",
       "      <th>3</th>\n",
       "      <td>{'en': 'You're wrong.', 'id': 'Kau salah.'}</td>\n",
       "    </tr>\n",
       "    <tr>\n",
       "      <th>4</th>\n",
       "      <td>{'en': 'Brook, what do you have to say for you...</td>\n",
       "    </tr>\n",
       "  </tbody>\n",
       "</table>\n",
       "</div>"
      ],
      "text/plain": [
       "                                         translation\n",
       "0                     {'en': 'Hmm. _', 'id': 'Hmm.'}\n",
       "1  {'en': 'Back the fuck up!', 'id': 'Mundurlah, ...\n",
       "2  {'en': 'Rebecca have a good think about it.', ...\n",
       "3        {'en': 'You're wrong.', 'id': 'Kau salah.'}\n",
       "4  {'en': 'Brook, what do you have to say for you..."
      ]
     },
     "execution_count": 2,
     "metadata": {},
     "output_type": "execute_result"
    }
   ],
   "source": [
    "import pandas as pd\n",
    "\n",
    "df_train = pd.read_parquet(\"hf://datasets/Helsinki-NLP/opus-100/en-id/train-00000-of-00001.parquet\")\n",
    "\n",
    "df_train.head()"
   ]
  },
  {
   "cell_type": "code",
   "execution_count": 3,
   "id": "100b28bf-e469-40d9-b3b1-1501c5ff25be",
   "metadata": {},
   "outputs": [
    {
     "name": "stdout",
     "output_type": "stream",
     "text": [
      "<class 'pandas.core.frame.DataFrame'>\n",
      "RangeIndex: 100000 entries, 0 to 99999\n",
      "Data columns (total 1 columns):\n",
      " #   Column       Non-Null Count   Dtype \n",
      "---  ------       --------------   ----- \n",
      " 0   translation  100000 non-null  object\n",
      "dtypes: object(1)\n",
      "memory usage: 781.4+ KB\n"
     ]
    }
   ],
   "source": [
    "num_of_data = 100000\n",
    "\n",
    "df_train_reduced = df_train.head(num_of_data)\n",
    "df_train_reduced.info()"
   ]
  },
  {
   "cell_type": "code",
   "execution_count": 4,
   "id": "f3e737d6-35be-4e71-9043-91514f6c31d4",
   "metadata": {},
   "outputs": [],
   "source": [
    "# Extract English and Indonesian train texts\n",
    "english_train = df_train_reduced['translation'].apply(lambda x: x['en']).tolist()\n",
    "indonesian_train = df_train_reduced['translation'].apply(lambda x: x['id']).tolist()"
   ]
  },
  {
   "cell_type": "code",
   "execution_count": 5,
   "id": "d7aac2c4-7d60-438c-b49b-85d197478470",
   "metadata": {},
   "outputs": [
    {
     "name": "stdout",
     "output_type": "stream",
     "text": [
      "English 100k vocabulary size: 31244\n",
      "Indonesian 100k vocabulary size: 35275\n",
      "English 50k vocabulary size: 21227\n",
      "Indonesian 50k vocabulary size: 24065\n"
     ]
    }
   ],
   "source": [
    "from tensorflow.keras.preprocessing.text import tokenizer_from_json\n",
    "\n",
    "with open('english_tokenizer_100k.json') as f:\n",
    "    data = f.read()\n",
    "\n",
    "en_tokenizer_100k = tokenizer_from_json(data)\n",
    "\n",
    "with open('indonesian_tokenizer_100k.json') as f:\n",
    "    data = f.read()\n",
    "\n",
    "id_tokenizer_100k = tokenizer_from_json(data)\n",
    "\n",
    "with open('english_tokenizer.json') as f:\n",
    "    data = f.read()\n",
    "\n",
    "en_tokenizer_50k = tokenizer_from_json(data)\n",
    "\n",
    "with open('indonesian_tokenizer.json') as f:\n",
    "    data = f.read()\n",
    "\n",
    "id_tokenizer_50k = tokenizer_from_json(data)\n",
    "\n",
    "print(\"English 100k vocabulary size:\", len(en_tokenizer_100k.word_index))\n",
    "print(\"Indonesian 100k vocabulary size:\", len(id_tokenizer_100k.word_index))\n",
    "print(\"English 50k vocabulary size:\", len(en_tokenizer_50k.word_index))\n",
    "print(\"Indonesian 50k vocabulary size:\", len(id_tokenizer_50k.word_index))"
   ]
  },
  {
   "cell_type": "code",
   "execution_count": 16,
   "id": "7d65bd0d-1d32-44b4-8322-5661de002120",
   "metadata": {},
   "outputs": [
    {
     "name": "stdout",
     "output_type": "stream",
     "text": [
      "31245\n",
      "35276\n"
     ]
    }
   ],
   "source": [
    "english_tokenizer = en_tokenizer_100k\n",
    "indonesian_tokenizer = id_tokenizer_100k\n",
    "\n",
    "# Convert texts to sequences\n",
    "english_sequences = english_tokenizer.texts_to_sequences(english_train)\n",
    "indonesian_sequences = indonesian_tokenizer.texts_to_sequences(indonesian_train)\n",
    "\n",
    "english_vocab_size = len(english_tokenizer.word_index) +1\n",
    "indonesian_vocab_size = len(indonesian_tokenizer.word_index) +1\n",
    "\n",
    "print(english_vocab_size)\n",
    "print(indonesian_vocab_size)"
   ]
  },
  {
   "cell_type": "code",
   "execution_count": 7,
   "id": "d7690abd-7dc0-405c-918c-6d930506ff86",
   "metadata": {},
   "outputs": [
    {
     "name": "stdout",
     "output_type": "stream",
     "text": [
      "<class 'pandas.core.frame.DataFrame'>\n",
      "RangeIndex: 2000 entries, 0 to 1999\n",
      "Data columns (total 1 columns):\n",
      " #   Column       Non-Null Count  Dtype \n",
      "---  ------       --------------  ----- \n",
      " 0   translation  2000 non-null   object\n",
      "dtypes: object(1)\n",
      "memory usage: 15.8+ KB\n"
     ]
    }
   ],
   "source": [
    "df_validation = pd.read_parquet(\"hf://datasets/Helsinki-NLP/opus-100/en-id/validation-00000-of-00001.parquet\")\n",
    "\n",
    "df_validation.info()"
   ]
  },
  {
   "cell_type": "code",
   "execution_count": 17,
   "id": "b6c756dd-6c82-4361-99a6-28920b63e051",
   "metadata": {},
   "outputs": [],
   "source": [
    "num_of_data = 2000\n",
    "\n",
    "df_validation_reduced = df_validation.head(num_of_data)\n",
    "\n",
    "english_validation = df_validation_reduced['translation'].apply(lambda x: x['en']).tolist()\n",
    "indonesian_validation = df_validation_reduced['translation'].apply(lambda x: x['id']).tolist()\n",
    "\n",
    "# Prepare validation data in the same way\n",
    "validation_english_sequences = english_tokenizer.texts_to_sequences(english_validation)\n",
    "validation_indonesian_sequences = indonesian_tokenizer.texts_to_sequences(indonesian_validation)"
   ]
  },
  {
   "cell_type": "code",
   "execution_count": 18,
   "id": "e8ca2dc5-c0d1-48df-9c1d-b577dba5c448",
   "metadata": {},
   "outputs": [
    {
     "name": "stdout",
     "output_type": "stream",
     "text": [
      "Shape of input_sequences: (100000, 60)\n",
      "Shape of target_sequences: (100000, 60)\n",
      "Shape of validation_english_sequences: (2000, 60)\n",
      "Shape of validation_target_sequences: (2000, 60)\n",
      "60\n"
     ]
    }
   ],
   "source": [
    "from tensorflow.keras.preprocessing.sequence import pad_sequences\n",
    "\n",
    "# Define a consistent maximum sequence length based on the longest sequence in both datasets\n",
    "max_sequence_length = 60\n",
    "\n",
    "# Pad the English and Indonesian sequences for training to the same fixed maximum length\n",
    "english_sequences = pad_sequences(english_sequences, maxlen=max_sequence_length, padding='post')\n",
    "indonesian_sequences = pad_sequences(indonesian_sequences, maxlen=max_sequence_length, padding='post')\n",
    "\n",
    "# Pad the validation sequences to the same maximum sequence length\n",
    "validation_english_sequences = pad_sequences(validation_english_sequences, maxlen=max_sequence_length, padding='post')\n",
    "validation_indonesian_sequences = pad_sequences(validation_indonesian_sequences, maxlen=max_sequence_length, padding='post')\n",
    "\n",
    "# Check the shapes to confirm alignment\n",
    "print(\"Shape of input_sequences:\", english_sequences.shape)\n",
    "print(\"Shape of target_sequences:\", indonesian_sequences.shape)\n",
    "print(\"Shape of validation_english_sequences:\", validation_english_sequences.shape)\n",
    "print(\"Shape of validation_target_sequences:\", validation_indonesian_sequences.shape)\n",
    "print(max_sequence_length)"
   ]
  },
  {
   "cell_type": "code",
   "execution_count": 19,
   "id": "7cad0323-56c3-4be6-8491-9daa406aa815",
   "metadata": {},
   "outputs": [],
   "source": [
    "from tensorflow.keras.models import Sequential\n",
    "from tensorflow.keras.layers import Embedding, LSTM, Bidirectional, Dense\n",
    "\n",
    "# Define the Model\n",
    "embedding_dim = 64\n",
    "\n",
    "model = Sequential([\n",
    "    Embedding(input_dim=english_vocab_size, output_dim=embedding_dim, input_length=max_sequence_length),\n",
    "    Bidirectional(LSTM(32, return_sequences=True)),\n",
    "    Bidirectional(LSTM(64, return_sequences=True)),\n",
    "    Dense(indonesian_vocab_size, activation='softmax')\n",
    "])"
   ]
  },
  {
   "cell_type": "code",
   "execution_count": 20,
   "id": "8f09f348-9636-4ea3-a1c8-445ff38717f0",
   "metadata": {},
   "outputs": [],
   "source": [
    "from tensorflow.keras.callbacks import ModelCheckpoint\n",
    "from tensorflow.keras.callbacks import CSVLogger\n",
    "\n",
    "# Define the path for saving the model and logs\n",
    "path = \"./models-100k-2k/\"\n",
    "\n",
    "checkpoint = ModelCheckpoint(path + 'model-bilstm_2_32_64-{epoch:02d}.keras', verbose=1, save_best_only=False)\n",
    "csv_logger = CSVLogger(path + \"log-hasil-bilstm_2_32_64.csv\", append=True, separator=';')"
   ]
  },
  {
   "cell_type": "code",
   "execution_count": 21,
   "id": "94b61bae-ad34-4509-8704-b1a9feded826",
   "metadata": {},
   "outputs": [],
   "source": [
    "from tensorflow.keras.optimizers import Adam\n",
    "\n",
    "model.compile(optimizer=Adam(), loss='sparse_categorical_crossentropy')"
   ]
  },
  {
   "cell_type": "code",
   "execution_count": 22,
   "id": "1893b920-d916-46fe-9d63-4cb4919a97e0",
   "metadata": {},
   "outputs": [
    {
     "name": "stdout",
     "output_type": "stream",
     "text": [
      "Epoch 1/10\n",
      "3125/3125 [==============================] - ETA: 0s - loss: 0.8430\n",
      "Epoch 1: saving model to ./models-100k-2k\\model-bilstm_2_32_64-01.keras\n",
      "3125/3125 [==============================] - 228s 72ms/step - loss: 0.8430 - val_loss: 0.7685\n",
      "Epoch 2/10\n",
      "3125/3125 [==============================] - ETA: 0s - loss: 0.6787\n",
      "Epoch 2: saving model to ./models-100k-2k\\model-bilstm_2_32_64-02.keras\n",
      "3125/3125 [==============================] - 228s 73ms/step - loss: 0.6787 - val_loss: 0.7312\n",
      "Epoch 3/10\n",
      "3125/3125 [==============================] - ETA: 0s - loss: 0.6314\n",
      "Epoch 3: saving model to ./models-100k-2k\\model-bilstm_2_32_64-03.keras\n",
      "3125/3125 [==============================] - 248s 80ms/step - loss: 0.6314 - val_loss: 0.7043\n",
      "Epoch 4/10\n",
      "3125/3125 [==============================] - ETA: 0s - loss: 0.5926\n",
      "Epoch 4: saving model to ./models-100k-2k\\model-bilstm_2_32_64-04.keras\n",
      "3125/3125 [==============================] - 272s 87ms/step - loss: 0.5926 - val_loss: 0.6824\n",
      "Epoch 5/10\n",
      "3125/3125 [==============================] - ETA: 0s - loss: 0.5583\n",
      "Epoch 5: saving model to ./models-100k-2k\\model-bilstm_2_32_64-05.keras\n",
      "3125/3125 [==============================] - 271s 87ms/step - loss: 0.5583 - val_loss: 0.6718\n",
      "Epoch 6/10\n",
      "3125/3125 [==============================] - ETA: 0s - loss: 0.5278\n",
      "Epoch 6: saving model to ./models-100k-2k\\model-bilstm_2_32_64-06.keras\n",
      "3125/3125 [==============================] - 271s 87ms/step - loss: 0.5278 - val_loss: 0.6625\n",
      "Epoch 7/10\n",
      "3125/3125 [==============================] - ETA: 0s - loss: 0.5006\n",
      "Epoch 7: saving model to ./models-100k-2k\\model-bilstm_2_32_64-07.keras\n",
      "3125/3125 [==============================] - 271s 87ms/step - loss: 0.5006 - val_loss: 0.6608\n",
      "Epoch 8/10\n",
      "3125/3125 [==============================] - ETA: 0s - loss: 0.4764\n",
      "Epoch 8: saving model to ./models-100k-2k\\model-bilstm_2_32_64-08.keras\n",
      "3125/3125 [==============================] - 271s 87ms/step - loss: 0.4764 - val_loss: 0.6598\n",
      "Epoch 9/10\n",
      "3125/3125 [==============================] - ETA: 0s - loss: 0.4543\n",
      "Epoch 9: saving model to ./models-100k-2k\\model-bilstm_2_32_64-09.keras\n",
      "3125/3125 [==============================] - 272s 87ms/step - loss: 0.4543 - val_loss: 0.6614\n",
      "Epoch 10/10\n",
      "3125/3125 [==============================] - ETA: 0s - loss: 0.4347\n",
      "Epoch 10: saving model to ./models-100k-2k\\model-bilstm_2_32_64-10.keras\n",
      "3125/3125 [==============================] - 252s 81ms/step - loss: 0.4347 - val_loss: 0.6633\n"
     ]
    }
   ],
   "source": [
    "# Train the Model\n",
    "epochs = 10\n",
    "batch_size = 32\n",
    "\n",
    "history = model.fit(\n",
    "    english_sequences, indonesian_sequences,\n",
    "    epochs=epochs,\n",
    "    batch_size=batch_size,\n",
    "    verbose=1,\n",
    "    validation_data=(validation_english_sequences, validation_indonesian_sequences),\n",
    "    callbacks=[checkpoint, csv_logger]\n",
    ")"
   ]
  },
  {
   "cell_type": "code",
   "execution_count": 16,
   "id": "29e13573-e919-43e2-a458-cdb9a3b47c07",
   "metadata": {},
   "outputs": [
    {
     "name": "stdout",
     "output_type": "stream",
     "text": [
      "   epoch      loss  val_loss\n",
      "0      0  0.920982  0.791857\n",
      "1      1  0.709996  0.767429\n",
      "2      2  0.670747  0.740717\n",
      "3      3  0.639677  0.726241\n",
      "4      4  0.615259  0.720981\n",
      "5      5  0.596044  0.715492\n",
      "6      6  0.579491  0.714828\n",
      "7      7  0.565300  0.714807\n",
      "8      8  0.552566  0.718437\n",
      "9      9  0.540896  0.718620\n"
     ]
    }
   ],
   "source": [
    "file = \"./models-100k-2k/log-hasil-lstm_2_64.csv\"\n",
    "\n",
    "data = pd.read_csv(file, delimiter=';')\n",
    "\n",
    "print(log)"
   ]
  },
  {
   "cell_type": "code",
   "execution_count": 18,
   "id": "305ee741-e632-475d-8c83-426f7ebc6a68",
   "metadata": {},
   "outputs": [
    {
     "data": {
      "image/png": "[encoded data removed]",
      "text/plain": [
       "<Figure size 640x480 with 1 Axes>"
      ]
     },
     "metadata": {},
     "output_type": "display_data"
    }
   ],
   "source": [
    "# Plotting loss and validation loss over epochs\n",
    "plt.figure()\n",
    "plt.plot(data['epoch'], data['loss'], label='Training Loss')\n",
    "plt.plot(data['epoch'], data['val_loss'], label='Validation Loss')\n",
    "\n",
    "# Adding title and labels\n",
    "plt.title('Training and Validation Loss Over Epochs')\n",
    "plt.xlabel('Epoch')\n",
    "plt.ylabel('Loss')\n",
    "plt.legend()\n",
    "\n",
    "# Show the plot\n",
    "plt.show()"
   ]
  },
  {
   "cell_type": "code",
   "execution_count": 24,
   "id": "3397b1d1-256b-490d-a0ba-fb0ac04c6639",
   "metadata": {},
   "outputs": [
    {
     "name": "stdout",
     "output_type": "stream",
     "text": [
      "Model: \"sequential_2\"\n",
      "_________________________________________________________________\n",
      " Layer (type)                Output Shape              Param #   \n",
      "=================================================================\n",
      " embedding_2 (Embedding)     (None, 60, 64)            1999680   \n",
      "                                                                 \n",
      " bidirectional_3 (Bidirectio  (None, 60, 64)           24832     \n",
      " nal)                                                            \n",
      "                                                                 \n",
      " bidirectional_4 (Bidirectio  (None, 60, 128)          66048     \n",
      " nal)                                                            \n",
      "                                                                 \n",
      " dense_2 (Dense)             (None, 60, 35276)         4550604   \n",
      "                                                                 \n",
      "=================================================================\n",
      "Total params: 6,641,164\n",
      "Trainable params: 6,641,164\n",
      "Non-trainable params: 0\n",
      "_________________________________________________________________\n"
     ]
    }
   ],
   "source": [
    "model.summary()"
   ]
  },
  {
   "cell_type": "code",
   "execution_count": 23,
   "id": "9030cf17-f69c-4faa-a6fe-8332e4403d8a",
   "metadata": {},
   "outputs": [
    {
     "data": {
      "image/png": "[encoded data removed]",
      "text/plain": [
       "<Figure size 640x480 with 1 Axes>"
      ]
     },
     "metadata": {},
     "output_type": "display_data"
    }
   ],
   "source": [
    "import matplotlib.pyplot as plt\n",
    "\n",
    "pd.DataFrame(history.history).plot()\n",
    "plt.title(\"Loss\")\n",
    "plt.show()"
   ]
  },
  {
   "cell_type": "code",
   "execution_count": 26,
   "id": "9ae126c0-82ca-4da6-a026-d85f07976fc7",
   "metadata": {},
   "outputs": [],
   "source": [
    "import numpy as np\n",
    "from nltk.translate.bleu_score import sentence_bleu, SmoothingFunction\n",
    "\n",
    "def bleu_score(input_data, output_data, input_tokenizer, output_tokenizer, model):\n",
    "    bleu_scores = []\n",
    "    smoothing_function = SmoothingFunction().method1  # Apply smoothing\n",
    "\n",
    "    for i in range(len(input_data)):\n",
    "        # Tokenize and pad single sentence\n",
    "        input_seq = input_tokenizer.texts_to_sequences([input_data[i]])\n",
    "        input_seq = pad_sequences(input_seq, maxlen=max_sequence_length, padding='post')\n",
    "        \n",
    "        # Predict for this single input\n",
    "        prediction = model.predict(input_seq)\n",
    "        \n",
    "        # Decode the prediction to text\n",
    "        predicted_seq = np.argmax(prediction[0], axis=-1)  # Use only the first (and only) batch element\n",
    "        predicted_text = ' '.join([output_tokenizer.index_word.get(idx, '') for idx in predicted_seq if idx != 0])\n",
    "        \n",
    "        # Get the reference text\n",
    "        reference_seq = output_tokenizer.texts_to_sequences([output_data[i]])\n",
    "        reference_seq = pad_sequences(reference_seq, maxlen=max_sequence_length, padding='post')\n",
    "        reference_text = ' '.join([output_tokenizer.index_word.get(idx, '') for idx in reference_seq[0] if idx != 0])\n",
    "        \n",
    "        # Tokenize the reference and predicted sentences\n",
    "        reference_tokens = [reference_text.split()]\n",
    "        predicted_tokens = predicted_text.split()\n",
    "        \n",
    "        # Calculate BLEU score for this sentence\n",
    "        bleu_score_value = sentence_bleu(reference_tokens, predicted_tokens, smoothing_function=smoothing_function)\n",
    "        bleu_scores.append(bleu_score_value)\n",
    "        \n",
    "        # Print predicted and reference text, and BLEU score for the current sentence\n",
    "        print(f\"Sentence {i + 1} Input Text: {input_data[i]}\")\n",
    "        print(f\"Sentence {i + 1} Predicted Text: {predicted_text}\")\n",
    "        print(f\"Sentence {i + 1} Reference Text: {reference_text}\")\n",
    "        print(f\"Sentence {i + 1} BLEU Score: {bleu_score_value:.4f}\")\n",
    "        print(\"-\" * 50)  # Separator for readability\n",
    "    \n",
    "    # Calculate the average BLEU score\n",
    "    avg_bleu_score = np.mean(bleu_scores)\n",
    "    print(f\"Average BLEU Score: {avg_bleu_score:.4f}\")\n"
   ]
  },
  {
   "cell_type": "code",
   "execution_count": 27,
   "id": "5f243733-eaf0-4b60-bdcd-fb620d29aa6b",
   "metadata": {},
   "outputs": [
    {
     "name": "stdout",
     "output_type": "stream",
     "text": [
      "<class 'pandas.core.frame.DataFrame'>\n",
      "RangeIndex: 2000 entries, 0 to 1999\n",
      "Data columns (total 1 columns):\n",
      " #   Column       Non-Null Count  Dtype \n",
      "---  ------       --------------  ----- \n",
      " 0   translation  2000 non-null   object\n",
      "dtypes: object(1)\n",
      "memory usage: 15.8+ KB\n"
     ]
    }
   ],
   "source": [
    "df_test = pd.read_parquet(\"hf://datasets/Helsinki-NLP/opus-100/en-id/test-00000-of-00001.parquet\")\n",
    "\n",
    "df_test.info()"
   ]
  },
  {
   "cell_type": "code",
   "execution_count": 28,
   "id": "2bed251e-dffd-4b40-b1de-5df7ee020ed0",
   "metadata": {},
   "outputs": [
    {
     "name": "stdout",
     "output_type": "stream",
     "text": [
      "<class 'pandas.core.frame.DataFrame'>\n",
      "RangeIndex: 20 entries, 0 to 19\n",
      "Data columns (total 1 columns):\n",
      " #   Column       Non-Null Count  Dtype \n",
      "---  ------       --------------  ----- \n",
      " 0   translation  20 non-null     object\n",
      "dtypes: object(1)\n",
      "memory usage: 288.0+ bytes\n"
     ]
    }
   ],
   "source": [
    "num_of_data = 20\n",
    "\n",
    "df_test_reduced = df_test.head(num_of_data)\n",
    "df_test_reduced.info()"
   ]
  },
  {
   "cell_type": "code",
   "execution_count": 29,
   "id": "16352c43-003e-4c7f-9380-39a0f75ca884",
   "metadata": {},
   "outputs": [
    {
     "name": "stdout",
     "output_type": "stream",
     "text": [
      "['He was on the run.', \"How d'ya like that, Spidey?\", '- Staff Sergeant, sir!', \"I'll be with her.\", 'Because of us, they will be ruined.']\n",
      "['Dia sedang dalam pelarian.', 'Bagaimana sekarang, Spidey?', '- Staf Sersan, Pak!', 'Aku akan bersamanya.', 'Karena kita, mereka akan hancur.']\n"
     ]
    }
   ],
   "source": [
    "english_test = df_test_reduced['translation'].apply(lambda x: x['en']).tolist()\n",
    "indonesian_test = df_test_reduced['translation'].apply(lambda x: x['id']).tolist()\n",
    "\n",
    "print(english_test[:5])\n",
    "print(indonesian_test[:5])"
   ]
  },
  {
   "cell_type": "code",
   "execution_count": 30,
   "id": "f6e96ddb-1c94-4d7f-82db-16d784b3e9fb",
   "metadata": {},
   "outputs": [
    {
     "name": "stdout",
     "output_type": "stream",
     "text": [
      "1/1 [==============================] - 1s 913ms/step\n",
      "Sentence 1 Input Text: He was on the run.\n",
      "Sentence 1 Predicted Text: dia sudah\n",
      "Sentence 1 Reference Text: dia sedang dalam pelarian\n",
      "Sentence 1 BLEU Score: 0.0550\n",
      "--------------------------------------------------\n",
      "1/1 [==============================] - 0s 20ms/step\n",
      "Sentence 2 Input Text: How d'ya like that, Spidey?\n",
      "Sentence 2 Predicted Text: bagaimana dia suka\n",
      "Sentence 2 Reference Text: bagaimana sekarang\n",
      "Sentence 2 BLEU Score: 0.1136\n",
      "--------------------------------------------------\n",
      "1/1 [==============================] - 0s 19ms/step\n",
      "Sentence 3 Input Text: - Staff Sergeant, sir!\n",
      "Sentence 3 Predicted Text: ralph tuan tuan\n",
      "Sentence 3 Reference Text: staf sersan pak\n",
      "Sentence 3 BLEU Score: 0.0000\n",
      "--------------------------------------------------\n",
      "1/1 [==============================] - 0s 20ms/step\n",
      "Sentence 4 Input Text: I'll be with her.\n",
      "Sentence 4 Predicted Text: aku akan bersamanya\n",
      "Sentence 4 Reference Text: aku akan bersamanya\n",
      "Sentence 4 BLEU Score: 0.5623\n",
      "--------------------------------------------------\n",
      "1/1 [==============================] - 0s 20ms/step\n",
      "Sentence 5 Input Text: Because of us, they will be ruined.\n",
      "Sentence 5 Predicted Text: karena karena kami kami akan\n",
      "Sentence 5 Reference Text: karena kita mereka akan hancur\n",
      "Sentence 5 BLEU Score: 0.0639\n",
      "--------------------------------------------------\n",
      "1/1 [==============================] - 0s 19ms/step\n",
      "Sentence 6 Input Text: - Now sit you down.\n",
      "Sentence 6 Predicted Text: sekarang kau\n",
      "Sentence 6 Reference Text: sekarang coba duduk\n",
      "Sentence 6 BLEU Score: 0.0907\n",
      "--------------------------------------------------\n",
      "1/1 [==============================] - 0s 19ms/step\n",
      "Sentence 7 Input Text: Okay, listen to me, Cole.\n",
      "Sentence 7 Predicted Text: oke dengarkan aku\n",
      "Sentence 7 Reference Text: oke dengarkan aku cole\n",
      "Sentence 7 BLEU Score: 0.4029\n",
      "--------------------------------------------------\n",
      "1/1 [==============================] - 0s 20ms/step\n",
      "Sentence 8 Input Text: - You're going to hell!\n",
      "Sentence 8 Predicted Text: kau akan akan\n",
      "Sentence 8 Reference Text: kau akan masuk neraka\n",
      "Sentence 8 BLEU Score: 0.1722\n",
      "--------------------------------------------------\n",
      "1/1 [==============================] - 0s 22ms/step\n",
      "Sentence 9 Input Text: Then perhaps I can be of assistance in a different way.\n",
      "Sentence 9 Predicted Text: lalu mungkin aku bisa bisa\n",
      "Sentence 9 Reference Text: mungkin aku bisa dengan cara lain\n",
      "Sentence 9 BLEU Score: 0.2177\n",
      "--------------------------------------------------\n",
      "1/1 [==============================] - 0s 22ms/step\n",
      "Sentence 10 Input Text: For the little kids.\n",
      "Sentence 10 Predicted Text: anak anak anak anak\n",
      "Sentence 10 Reference Text: untuk anak anak kecil\n",
      "Sentence 10 BLEU Score: 0.1699\n",
      "--------------------------------------------------\n",
      "1/1 [==============================] - 0s 21ms/step\n",
      "Sentence 11 Input Text: You know negotiations are off to a bad start when people can't even agree on terms with their own side.\n",
      "Sentence 11 Predicted Text: kau tahu masalah yang jadi ini aku\n",
      "Sentence 11 Reference Text: kau tahu negosiasi adalah ke awal yang buruk ketika orang bahkan tidak bisa setuju pada istilah dengan sisi mereka sendiri\n",
      "Sentence 11 BLEU Score: 0.0121\n",
      "--------------------------------------------------\n",
      "1/1 [==============================] - 0s 21ms/step\n",
      "Sentence 12 Input Text: The column the widget resides in\n",
      "Sentence 12 Predicted Text: the di di\n",
      "Sentence 12 Reference Text: nomor kolom tempat berada\n",
      "Sentence 12 BLEU Score: 0.0000\n",
      "--------------------------------------------------\n",
      "1/1 [==============================] - 0s 22ms/step\n",
      "Sentence 13 Input Text: WARNING: We do NOT trust this key!\n",
      "Sentence 13 Predicted Text: sesungguhnya kami tidak tidak percaya ini ini\n",
      "Sentence 13 Reference Text: peringatan kita tidak percaya kunci ini\n",
      "Sentence 13 BLEU Score: 0.0773\n",
      "--------------------------------------------------\n",
      "1/1 [==============================] - 0s 23ms/step\n",
      "Sentence 14 Input Text: That part was always easy. Till things go South.\n",
      "Sentence 14 Predicted Text: itu lebih sangat sangat di di ini\n",
      "Sentence 14 Reference Text: bagian itu selalu mudah hingga berbagai masalah lenyap\n",
      "Sentence 14 BLEU Score: 0.0286\n",
      "--------------------------------------------------\n",
      "1/1 [==============================] - 0s 22ms/step\n",
      "Sentence 15 Input Text: It's about two dead kids.\n",
      "Sentence 15 Predicted Text: ini anak dua anak anak\n",
      "Sentence 15 Reference Text: ini tentang dua anak yang tewas\n",
      "Sentence 15 BLEU Score: 0.1029\n",
      "--------------------------------------------------\n",
      "1/1 [==============================] - 0s 22ms/step\n",
      "Sentence 16 Input Text: Does everybody see how he got there?\n",
      "Sentence 16 Predicted Text: apakah semua melihat bagaimana dia\n",
      "Sentence 16 Reference Text: apa ada di sini yang tahu bagaimana kita sampai di sana\n",
      "Sentence 16 BLEU Score: 0.0162\n",
      "--------------------------------------------------\n",
      "1/1 [==============================] - 0s 22ms/step\n",
      "Sentence 17 Input Text: Then I go to move them, they don't start.\n",
      "Sentence 17 Predicted Text: lalu aku pergi pergi mereka mereka mereka\n",
      "Sentence 17 Reference Text: lalu aku coba menjalankannya tapi tak mau menyala\n",
      "Sentence 17 BLEU Score: 0.0606\n",
      "--------------------------------------------------\n",
      "1/1 [==============================] - 0s 22ms/step\n",
      "Sentence 18 Input Text: Do you feel that every time you smoke pot?\n",
      "Sentence 18 Predicted Text: kau kau merasa itu\n",
      "Sentence 18 Reference Text: apakah anda merasa bahwa setiap kali anda merokok pot\n",
      "Sentence 18 BLEU Score: 0.0230\n",
      "--------------------------------------------------\n",
      "1/1 [==============================] - 0s 22ms/step\n",
      "Sentence 19 Input Text: We get what we can.\n",
      "Sentence 19 Predicted Text: kita kita apa kita bisa\n",
      "Sentence 19 Reference Text: kita akan mengambil apa yang bisa di ambil\n",
      "Sentence 19 BLEU Score: 0.0388\n",
      "--------------------------------------------------\n",
      "1/1 [==============================] - 0s 21ms/step\n",
      "Sentence 20 Input Text: Yeah, in my kit.\n",
      "Sentence 20 Predicted Text: ya aku\n",
      "Sentence 20 Reference Text: yah dalam tas\n",
      "Sentence 20 BLEU Score: 0.0000\n",
      "--------------------------------------------------\n",
      "Average BLEU Score: 0.1104\n"
     ]
    }
   ],
   "source": [
    "bleu_score(english_test, indonesian_test, english_tokenizer, indonesian_tokenizer, model)"
   ]
  },
  {
   "cell_type": "code",
   "execution_count": 31,
   "id": "c3d7d93d-6403-4bfd-9e54-872552ac36e3",
   "metadata": {},
   "outputs": [],
   "source": [
    "# Test the model with a sample input\n",
    "def translate_sentence(input_tokenizer, output_tokenizer, sentence, model):\n",
    "    seq = input_tokenizer.texts_to_sequences([sentence])\n",
    "    seq = pad_sequences(seq, maxlen=max_sequence_length, padding='post')\n",
    "    pred_seq = model.predict(seq)\n",
    "    pred_seq = np.argmax(pred_seq, axis=-1)\n",
    "    translated_words = [output_tokenizer.index_word.get(idx, '') for idx in pred_seq[0] if idx > 0]\n",
    "    return ' '.join(translated_words)"
   ]
  },
  {
   "cell_type": "code",
   "execution_count": 33,
   "id": "7f045ea6-b6b5-4a58-b4ee-192629c9e084",
   "metadata": {},
   "outputs": [
    {
     "name": "stdout",
     "output_type": "stream",
     "text": [
      "1/1 [==============================] - 0s 29ms/step\n",
      "bisakah kita kita sekarang\n"
     ]
    }
   ],
   "source": [
    "sentence = \"can we play now?\"\n",
    "\n",
    "print(translate_sentence(english_tokenizer, indonesian_tokenizer, sentence, model))"
   ]
  },
  {
   "cell_type": "code",
   "execution_count": 34,
   "id": "fcb607b6-c0b5-401e-a24a-052b920fccd6",
   "metadata": {},
   "outputs": [],
   "source": [
    "path = \"./h5-models/\"\n",
    "\n",
    "model.save(path + \"model-bilstm_2_layer_64_128.h5\")"
   ]
  },
  {
   "cell_type": "code",
   "execution_count": 9,
   "id": "6ef63cd3-7928-49fc-80ee-b95a2b320fed",
   "metadata": {},
   "outputs": [
    {
     "name": "stdout",
     "output_type": "stream",
     "text": [
      "Model: \"sequential_5\"\n",
      "_________________________________________________________________\n",
      " Layer (type)                Output Shape              Param #   \n",
      "=================================================================\n",
      " embedding_6 (Embedding)     (None, 60, 64)            1999680   \n",
      "                                                                 \n",
      " lstm_7 (LSTM)               (None, 60, 64)            33024     \n",
      "                                                                 \n",
      " lstm_8 (LSTM)               (None, 60, 64)            33024     \n",
      "                                                                 \n",
      " dense_5 (Dense)             (None, 60, 35276)         2292940   \n",
      "                                                                 \n",
      "=================================================================\n",
      "Total params: 4,358,668\n",
      "Trainable params: 4,358,668\n",
      "Non-trainable params: 0\n",
      "_________________________________________________________________\n"
     ]
    }
   ],
   "source": [
    "file = \"./models-100k-2k/model-lstm_2_64-10.keras\"\n",
    "model = tf.keras.models.load_model(file)\n",
    "\n",
    "model.summary()"
   ]
  },
  {
   "cell_type": "code",
   "execution_count": null,
   "id": "89b5f734-449c-48cf-a385-eeee2f88e62d",
   "metadata": {},
   "outputs": [],
   "source": []
  }
 ],
 "metadata": {
  "kernelspec": {
   "display_name": "Python 3 (ipykernel)",
   "language": "python",
   "name": "python3"
  },
  "language_info": {
   "codemirror_mode": {
    "name": "ipython",
    "version": 3
   },
   "file_extension": ".py",
   "mimetype": "text/x-python",
   "name": "python",
   "nbconvert_exporter": "python",
   "pygments_lexer": "ipython3",
   "version": "3.10.15"
  }
 },
 "nbformat": 4,
 "nbformat_minor": 5
}
